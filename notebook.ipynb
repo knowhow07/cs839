{
 "cells": [
  {
   "cell_type": "code",
   "execution_count": 1,
   "metadata": {},
   "outputs": [
    {
     "name": "stdout",
     "output_type": "stream",
     "text": [
      "2.16.1\n",
      "Num GPUs Available:  1\n"
     ]
    }
   ],
   "source": [
    "import tensorflow as tf\n",
    "\n",
    "print(tf.__version__)\n",
    "print(\"Num GPUs Available: \", len(tf.config.experimental.list_physical_devices('GPU')))\n"
   ]
  },
  {
   "cell_type": "code",
   "execution_count": 7,
   "metadata": {},
   "outputs": [
    {
     "name": "stdout",
     "output_type": "stream",
     "text": [
      "                                                0     \\\n",
      "0  {'document': 7, 'full_text': 'Design Thinking ...   \n",
      "\n",
      "                                                1     \\\n",
      "0  {'document': 10, 'full_text': 'Diego Estrada\n",
      "\n",
      "...   \n",
      "\n",
      "                                                2     \\\n",
      "0  {'document': 16, 'full_text': 'Reporting proce...   \n",
      "\n",
      "                                                3     \\\n",
      "0  {'document': 20, 'full_text': 'Design Thinking...   \n",
      "\n",
      "                                                4     \\\n",
      "0  {'document': 56, 'full_text': 'Assignment:  Vi...   \n",
      "\n",
      "                                                5     \\\n",
      "0  {'document': 86, 'full_text': 'Cheese Startup ...   \n",
      "\n",
      "                                                6     \\\n",
      "0  {'document': 93, 'full_text': 'Silvia Villalob...   \n",
      "\n",
      "                                                7     \\\n",
      "0  {'document': 104, 'full_text': 'Storytelling  ...   \n",
      "\n",
      "                                                8     \\\n",
      "0  {'document': 112, 'full_text': 'Reflection – L...   \n",
      "\n",
      "                                                9     ...  \\\n",
      "0  {'document': 123, 'full_text': 'Gandhi Institu...  ...   \n",
      "\n",
      "                                                6797  \\\n",
      "0  {'document': 22668, 'full_text': 'Visualizatio...   \n",
      "\n",
      "                                                6798  \\\n",
      "0  {'document': 22672, 'full_text': 'Challenge:  ...   \n",
      "\n",
      "                                                6799  \\\n",
      "0  {'document': 22674, 'full_text': 'Reflection –...   \n",
      "\n",
      "                                                6800  \\\n",
      "0  {'document': 22675, 'full_text': 'Example Refl...   \n",
      "\n",
      "                                                6801  \\\n",
      "0  {'document': 22677, 'full_text': 'Mind Mapping...   \n",
      "\n",
      "                                                6802  \\\n",
      "0  {'document': 22678, 'full_text': 'EXAMPLE – JO...   \n",
      "\n",
      "                                                6803  \\\n",
      "0  {'document': 22679, 'full_text': 'Why Mind Map...   \n",
      "\n",
      "                                                6804  \\\n",
      "0  {'document': 22681, 'full_text': 'Challenge\n",
      "\n",
      "S...   \n",
      "\n",
      "                                                6805  \\\n",
      "0  {'document': 22684, 'full_text': 'Brainstormin...   \n",
      "\n",
      "                                                6806  \n",
      "0  {'document': 22687, 'full_text': 'Mind Mapping...  \n",
      "\n",
      "[1 rows x 6807 columns]\n"
     ]
    }
   ],
   "source": [
    "import pandas as pd\n",
    "# Load the datasets\n",
    "train_data_path = './train.json' # Update this path\n",
    "test_data_path = './test.json'   # Update this path\n",
    "\n",
    "train_df = pd.read_json(train_data_path, lines=True)\n",
    "test_df = pd.read_json(test_data_path, lines=True)\n",
    "\n",
    "# Quick look at the data structure\n",
    "print(train_df.head())\n",
    "print(test_df.head())\n"
   ]
  }
 ],
 "metadata": {
  "kernelspec": {
   "display_name": "pii_detection",
   "language": "python",
   "name": "python3"
  },
  "language_info": {
   "codemirror_mode": {
    "name": "ipython",
    "version": 3
   },
   "file_extension": ".py",
   "mimetype": "text/x-python",
   "name": "python",
   "nbconvert_exporter": "python",
   "pygments_lexer": "ipython3",
   "version": "3.9.19"
  }
 },
 "nbformat": 4,
 "nbformat_minor": 2
}
